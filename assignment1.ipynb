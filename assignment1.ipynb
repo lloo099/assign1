# Assignment 1
## Thomas
import pandas as pd
import numpy as np
print("Hello Capstone Project Course")
